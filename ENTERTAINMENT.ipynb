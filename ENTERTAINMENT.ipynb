{
 "cells": [
  {
   "cell_type": "markdown",
   "id": "f5df6da3",
   "metadata": {},
   "source": [
    "# ENTERTAINMENT DATASET\n",
    "Using the entertainment dataset to build a recommender system."
   ]
  },
  {
   "cell_type": "markdown",
   "id": "04ba5367",
   "metadata": {},
   "source": [
    "## BUSINESS OBJECTIVE\n",
    "* Maximise profit\n",
    "* Maximise visibility\n",
    "* Maximise ease of use\n",
    "* Maximise customer base\n",
    "* Minimise attrition rate"
   ]
  },
  {
   "cell_type": "markdown",
   "id": "6c8e6d09",
   "metadata": {},
   "source": [
    "## CONSTRAINTS\n",
    "* High competition\n",
    "* Copy Right issues\n",
    "* Online piracy"
   ]
  },
  {
   "cell_type": "markdown",
   "id": "fb363b6d",
   "metadata": {},
   "source": [
    "## DATA DICTIONARY"
   ]
  },
  {
   "cell_type": "markdown",
   "id": "f1b5762b",
   "metadata": {},
   "source": [
    "| **slno** | **Name of Feature** | **Description**                   | **Type** | **Relevance** |\n",
    "|:--------:|:-------------------:|:----------------------------------|:--------:|:-------------:|\n",
    "|     1    | Id                  | It is the user ID of the users.   | Nominal  | Relevant      |\n",
    "|     2    | Titles              | It is the name of the movies.     | Nominal  | Relevant      |\n",
    "|     3    | Category            | It is the genre of the movies.    | Nominal  | Relevant      |\n",
    "|     4    | Reviews             | It is the reviews of the movies.  | Ratio    | Irrelevant    |"
   ]
  },
  {
   "cell_type": "markdown",
   "id": "fcf746b8",
   "metadata": {},
   "source": [
    "Importing the required libraries"
   ]
  },
  {
   "cell_type": "code",
   "execution_count": 1,
   "id": "0706e43e",
   "metadata": {},
   "outputs": [],
   "source": [
    "import pandas as pd"
   ]
  },
  {
   "cell_type": "markdown",
   "id": "c3f79616",
   "metadata": {},
   "source": [
    "Loading the dataset using pandas library."
   ]
  },
  {
   "cell_type": "code",
   "execution_count": 2,
   "id": "81d173e9",
   "metadata": {},
   "outputs": [
    {
     "data": {
      "text/html": [
       "<div>\n",
       "<style scoped>\n",
       "    .dataframe tbody tr th:only-of-type {\n",
       "        vertical-align: middle;\n",
       "    }\n",
       "\n",
       "    .dataframe tbody tr th {\n",
       "        vertical-align: top;\n",
       "    }\n",
       "\n",
       "    .dataframe thead th {\n",
       "        text-align: right;\n",
       "    }\n",
       "</style>\n",
       "<table border=\"1\" class=\"dataframe\">\n",
       "  <thead>\n",
       "    <tr style=\"text-align: right;\">\n",
       "      <th></th>\n",
       "      <th>Id</th>\n",
       "      <th>Titles</th>\n",
       "      <th>Category</th>\n",
       "      <th>Reviews</th>\n",
       "    </tr>\n",
       "  </thead>\n",
       "  <tbody>\n",
       "    <tr>\n",
       "      <th>0</th>\n",
       "      <td>6973</td>\n",
       "      <td>Toy Story (1995)</td>\n",
       "      <td>Drama, Romance, School, Supernatural</td>\n",
       "      <td>-8.98</td>\n",
       "    </tr>\n",
       "    <tr>\n",
       "      <th>1</th>\n",
       "      <td>6778</td>\n",
       "      <td>Jumanji (1995)</td>\n",
       "      <td>Action, Adventure, Drama, Fantasy, Magic, Mili...</td>\n",
       "      <td>8.88</td>\n",
       "    </tr>\n",
       "    <tr>\n",
       "      <th>2</th>\n",
       "      <td>9702</td>\n",
       "      <td>Grumpier Old Men (1995)</td>\n",
       "      <td>Action, Comedy, Historical, Parody, Samurai, S...</td>\n",
       "      <td>99.00</td>\n",
       "    </tr>\n",
       "    <tr>\n",
       "      <th>3</th>\n",
       "      <td>6769</td>\n",
       "      <td>Waiting to Exhale (1995)</td>\n",
       "      <td>Sci-Fi, Thriller</td>\n",
       "      <td>99.00</td>\n",
       "    </tr>\n",
       "    <tr>\n",
       "      <th>4</th>\n",
       "      <td>1123</td>\n",
       "      <td>Father of the Bride Part II (1995)</td>\n",
       "      <td>Action, Comedy, Historical, Parody, Samurai, S...</td>\n",
       "      <td>-0.44</td>\n",
       "    </tr>\n",
       "  </tbody>\n",
       "</table>\n",
       "</div>"
      ],
      "text/plain": [
       "     Id                              Titles  \\\n",
       "0  6973                    Toy Story (1995)   \n",
       "1  6778                      Jumanji (1995)   \n",
       "2  9702             Grumpier Old Men (1995)   \n",
       "3  6769            Waiting to Exhale (1995)   \n",
       "4  1123  Father of the Bride Part II (1995)   \n",
       "\n",
       "                                            Category  Reviews  \n",
       "0               Drama, Romance, School, Supernatural    -8.98  \n",
       "1  Action, Adventure, Drama, Fantasy, Magic, Mili...     8.88  \n",
       "2  Action, Comedy, Historical, Parody, Samurai, S...    99.00  \n",
       "3                                   Sci-Fi, Thriller    99.00  \n",
       "4  Action, Comedy, Historical, Parody, Samurai, S...    -0.44  "
      ]
     },
     "execution_count": 2,
     "metadata": {},
     "output_type": "execute_result"
    }
   ],
   "source": [
    "df0=pd.read_csv(r\"D:\\360Digitmg\\ASSIGNMENTS\\Ass10\\Entertainment.csv\")\n",
    "df=df0.copy()\n",
    "df.head()"
   ]
  },
  {
   "cell_type": "markdown",
   "id": "c621b2da",
   "metadata": {},
   "source": [
    "From the below code we can get a general idea about the dataset. "
   ]
  },
  {
   "cell_type": "code",
   "execution_count": 3,
   "id": "132c4e2f",
   "metadata": {},
   "outputs": [
    {
     "data": {
      "text/plain": [
       "(51, 4)"
      ]
     },
     "execution_count": 3,
     "metadata": {},
     "output_type": "execute_result"
    }
   ],
   "source": [
    "df.shape"
   ]
  },
  {
   "cell_type": "code",
   "execution_count": 4,
   "id": "a5ef9530",
   "metadata": {
    "scrolled": false
   },
   "outputs": [
    {
     "name": "stdout",
     "output_type": "stream",
     "text": [
      "<class 'pandas.core.frame.DataFrame'>\n",
      "RangeIndex: 51 entries, 0 to 50\n",
      "Data columns (total 4 columns):\n",
      " #   Column    Non-Null Count  Dtype  \n",
      "---  ------    --------------  -----  \n",
      " 0   Id        51 non-null     int64  \n",
      " 1   Titles    51 non-null     object \n",
      " 2   Category  51 non-null     object \n",
      " 3   Reviews   51 non-null     float64\n",
      "dtypes: float64(1), int64(1), object(2)\n",
      "memory usage: 1.7+ KB\n"
     ]
    }
   ],
   "source": [
    "df.info()"
   ]
  },
  {
   "cell_type": "markdown",
   "id": "81da8649",
   "metadata": {},
   "source": [
    "from the above information it is clear that there are no null values in the dataset and the shape of the dataset is (51,4)."
   ]
  },
  {
   "cell_type": "markdown",
   "id": "1c4f5681",
   "metadata": {},
   "source": [
    "Checking the number of duplicates in the dataset. "
   ]
  },
  {
   "cell_type": "code",
   "execution_count": 5,
   "id": "c8c31f7f",
   "metadata": {},
   "outputs": [
    {
     "data": {
      "text/plain": [
       "0"
      ]
     },
     "execution_count": 5,
     "metadata": {},
     "output_type": "execute_result"
    }
   ],
   "source": [
    "df.duplicated(keep='first').sum()"
   ]
  },
  {
   "cell_type": "code",
   "execution_count": 11,
   "id": "b5e4f0ae",
   "metadata": {},
   "outputs": [
    {
     "data": {
      "text/plain": [
       "Index(['Id', 'Titles', 'Category', 'Reviews'], dtype='object')"
      ]
     },
     "execution_count": 11,
     "metadata": {},
     "output_type": "execute_result"
    }
   ],
   "source": [
    "df.columns"
   ]
  },
  {
   "cell_type": "markdown",
   "id": "ffdebad5",
   "metadata": {},
   "source": [
    "* Term frequencey- inverse document frequncy is a numerical statistic that is intended to reflect how important a word is to document in a collecion or corpus.\n",
    "* Creating a Tfidf Vectorizer to remove all stop words."
   ]
  },
  {
   "cell_type": "code",
   "execution_count": 9,
   "id": "b6cd8d8e",
   "metadata": {},
   "outputs": [],
   "source": [
    "from sklearn.feature_extraction.text import TfidfVectorizer"
   ]
  },
  {
   "cell_type": "markdown",
   "id": "f76e20f1",
   "metadata": {},
   "source": [
    "Removing the stop words from tfid vectorizer "
   ]
  },
  {
   "cell_type": "code",
   "execution_count": 10,
   "id": "739143c5",
   "metadata": {},
   "outputs": [],
   "source": [
    "tfidf = TfidfVectorizer(stop_words = \"english\")  "
   ]
  },
  {
   "cell_type": "markdown",
   "id": "44d78a19",
   "metadata": {},
   "source": [
    "Preparing the Tfidf matrix by fitting and transforming to transform a count matrix to a normalized tf or tf-idf representation"
   ]
  },
  {
   "cell_type": "code",
   "execution_count": 12,
   "id": "462b44ca",
   "metadata": {},
   "outputs": [],
   "source": [
    "tfidf_matrix = tfidf.fit_transform(df.Category)"
   ]
  },
  {
   "cell_type": "code",
   "execution_count": 13,
   "id": "9e0a64d2",
   "metadata": {},
   "outputs": [
    {
     "data": {
      "text/plain": [
       "(51, 34)"
      ]
     },
     "execution_count": 13,
     "metadata": {},
     "output_type": "execute_result"
    }
   ],
   "source": [
    "tfidf_matrix.shape"
   ]
  },
  {
   "cell_type": "markdown",
   "id": "e4554fd0",
   "metadata": {},
   "source": [
    "With the above matrix we need to find the similarity score, we will use cosine similarity matrix as it is independent of magnitude and easy to use. "
   ]
  },
  {
   "cell_type": "code",
   "execution_count": 14,
   "id": "7c9a50c5",
   "metadata": {},
   "outputs": [],
   "source": [
    "from sklearn.metrics.pairwise import linear_kernel"
   ]
  },
  {
   "cell_type": "markdown",
   "id": "d1c43ca1",
   "metadata": {},
   "source": [
    "Computing the cosine similarity on Tfidf matrix"
   ]
  },
  {
   "cell_type": "code",
   "execution_count": 15,
   "id": "d787ad07",
   "metadata": {},
   "outputs": [],
   "source": [
    "cosine_sim_matrix = linear_kernel(tfidf_matrix, tfidf_matrix)"
   ]
  },
  {
   "cell_type": "markdown",
   "id": "d418602a",
   "metadata": {},
   "source": [
    "Creating a mapping of movie titles to index number "
   ]
  },
  {
   "cell_type": "code",
   "execution_count": 16,
   "id": "add6cf5f",
   "metadata": {},
   "outputs": [],
   "source": [
    "df_index = pd.Series(df.index, index = df['Titles'])"
   ]
  },
  {
   "cell_type": "code",
   "execution_count": 19,
   "id": "5f4e47e5",
   "metadata": {},
   "outputs": [],
   "source": [
    "def get_recommendations(Name, topN):    \n",
    "    # topN = 10\n",
    "    # Getting the movie index using its title \n",
    "    df_id = df_index[Name]\n",
    "    \n",
    "    # Getting the pair wise similarity score for all the movie's with that movie\n",
    "    cosine_scores = list(enumerate(cosine_sim_matrix[df_id]))\n",
    "    \n",
    "    # Sorting the cosine_similarity scores based on scores \n",
    "    cosine_scores = sorted(cosine_scores, key=lambda x:x[1], reverse = True)\n",
    "    \n",
    "    # Get the scores of top N most similar movies \n",
    "    cosine_scores_N = cosine_scores[1: topN+1]\n",
    "    \n",
    "    # Getting the movie index \n",
    "    df_idx  =  [i[0] for i in cosine_scores_N]\n",
    "    df_scores =  [i[1] for i in cosine_scores_N]\n",
    "    \n",
    "    # Similar movies and scores\n",
    "    df_similar_show = pd.DataFrame(columns=[\"Titles\", \"Score\"])\n",
    "    df_similar_show[\"Titles\"] = df.loc[df_idx, \"Titles\"]\n",
    "    df_similar_show[\"Score\"] = df_scores\n",
    "    df_similar_show.reset_index(inplace = True)  \n",
    "    # anime_similar_show.drop([\"index\"], axis=1, inplace=True)\n",
    "    print (df_similar_show)\n",
    "    # return (anime_similar_show)"
   ]
  },
  {
   "cell_type": "markdown",
   "id": "7ed6cad0",
   "metadata": {},
   "source": [
    "Entering the movie title and no of reccomendations needed we will the desired output. "
   ]
  },
  {
   "cell_type": "code",
   "execution_count": 28,
   "id": "b7c7ffd4",
   "metadata": {},
   "outputs": [
    {
     "name": "stdout",
     "output_type": "stream",
     "text": [
      "    index                                             Titles     Score\n",
      "0      25                                     Othello (1995)  1.000000\n",
      "1       0                                   Toy Story (1995)  0.625943\n",
      "2      26                                Now and Then (1995)  0.546952\n",
      "3      45                       When Night Is Falling (1995)  0.453912\n",
      "4      50                                     Georgia (1995)  0.419972\n",
      "5      39                                 Restoration (1995)  0.405287\n",
      "6      42               How to Make an American Quilt (1995)  0.393702\n",
      "7      29  Shanghai Triad (Yao a yao yao dao waipo qiao) ...  0.390965\n",
      "8       3                           Waiting to Exhale (1995)  0.389033\n",
      "9      23                                      Powder (1995)  0.388408\n",
      "10     22                                   Assassins (1995)  0.366221\n"
     ]
    }
   ],
   "source": [
    "get_recommendations(\"Othello (1995)\", topN = 10)\n"
   ]
  },
  {
   "cell_type": "markdown",
   "id": "8561ccbd",
   "metadata": {},
   "source": [
    "## CONCLUSION\n",
    "* Using the recommendation system we can recommend some unknown movies which the customer was not going to watch but because it was recommended it will generate an interest about the movie based on genres from movies of similar types. \n",
    "* Movies with the genres which the customer is interested in will be recommended. "
   ]
  },
  {
   "cell_type": "code",
   "execution_count": null,
   "id": "90e5ecd2",
   "metadata": {},
   "outputs": [],
   "source": []
  }
 ],
 "metadata": {
  "kernelspec": {
   "display_name": "Python 3 (ipykernel)",
   "language": "python",
   "name": "python3"
  },
  "language_info": {
   "codemirror_mode": {
    "name": "ipython",
    "version": 3
   },
   "file_extension": ".py",
   "mimetype": "text/x-python",
   "name": "python",
   "nbconvert_exporter": "python",
   "pygments_lexer": "ipython3",
   "version": "3.9.12"
  }
 },
 "nbformat": 4,
 "nbformat_minor": 5
}
